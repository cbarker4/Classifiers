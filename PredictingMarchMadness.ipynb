{
 "cells": [
  {
   "cell_type": "code",
   "execution_count": 1,
   "metadata": {},
   "outputs": [],
   "source": [
    "# some useful mysklearn package import statements and reloads\n",
    "import importlib\n",
    "\n",
    "# from mysklearn.myutils\n",
    "# importlib.reload(mysklearn.myutils)\n",
    "import mysklearn.myutils as myutils\n",
    "\n",
    "# uncomment once you paste your mypytable.py into mysklearn package\n",
    "import mysklearn.mypytable\n",
    "importlib.reload(mysklearn.mypytable)\n",
    "from mysklearn.mypytable import MyPyTable \n",
    "\n",
    "# uncomment once you paste your myclassifiers.py into mysklearn package\n",
    "import mysklearn.myclassifiers\n",
    "importlib.reload(mysklearn.myclassifiers)\n",
    "from mysklearn.myclassifiers import MyKNeighborsClassifier, MyDummyClassifier, MyNaiveBayesClassifier, MyDecisionTreeClassifier\n",
    "\n",
    "import mysklearn.myevaluation\n",
    "importlib.reload(mysklearn.myevaluation)\n",
    "import mysklearn.myevaluation as myevaluation"
   ]
  },
  {
   "cell_type": "code",
   "execution_count": 2,
   "metadata": {},
   "outputs": [
    {
     "name": "stdout",
     "output_type": "stream",
     "text": [
      "10-Fold Cross Validation\n",
      "KNN clasifier: accuracy =  0.5086838534599728 , error rate = 0.4913161465400272\n",
      "Dummy Classifier: accuracy =  0.47575757575757577 , error rate = 0.5242424242424242\n",
      "Bays Classifier: accuracy =  0.46680235187697877 , error rate = 0.5331976481230212\n",
      "Decision Tree: accuracy =  0.7432835820895523 , error rate = 0.25671641791044775\n"
     ]
    }
   ],
   "source": [
    "mt = MyPyTable()\n",
    "mt.load_from_file(\"input_data/tournament_games2016-2021.csv\")\n",
    "\n",
    "y = mt.get_column(-1,delete_col= True)\n",
    "train,test = myevaluation.stratified_kfold_cross_validation(mt.data,y,n_splits = 5)\n",
    "bayacc = []\n",
    "knaccc =[]\n",
    "dumAcc = []\n",
    "treAcc = []\n",
    "\n",
    "X = mt\n",
    "for i,vals in enumerate(train):\n",
    "    x_test = []\n",
    "    x_train = []\n",
    "    y_train = []\n",
    "    y_act = []\n",
    "    for j in vals:\n",
    "        x_train.append(X.data[j])\n",
    "        y_train.append(y[j])\n",
    "    for j in test[i]:\n",
    "        x_test.append(X.data[j])\n",
    "        y_act.append(y[j])\n",
    "    knn = MyKNeighborsClassifier(n_neighbors=5)\n",
    "    dumb = MyDummyClassifier()\n",
    "    bay = MyNaiveBayesClassifier()\n",
    "    tree = MyDecisionTreeClassifier()\n",
    "    dumb.fit(x_train,y_train)\n",
    "    bay.fit(x_train,y_train)\n",
    "    knn.fit(x_train,y_train)\n",
    "    tree.fit(x_train,y_train)\n",
    "    d =dumb.predict(x_test)\n",
    "    b = bay.predict(x_test)\n",
    "    k =knn.predict(x_test,randomNeibor = True)\n",
    "    t = tree.predict(x_test)\n",
    "    t2 =[]\n",
    "    for val in t:\n",
    "        try:\n",
    "            t2.append(val[0])\n",
    "        except:\n",
    "            t2.append('H')\n",
    "        \n",
    "    treAcc.append(myevaluation.accuracy_score(t2,y_act))\n",
    "    dumAcc.append(myevaluation.accuracy_score(d,y_act))\n",
    "    bayacc.append(myevaluation.accuracy_score(b,y_act))\n",
    "    knaccc.append(myevaluation.accuracy_score(k,y_act))\n",
    "    \n",
    "\n",
    "treAcc = sum (treAcc)/len(treAcc)\n",
    "knaccc = sum(knaccc)/len(knaccc)\n",
    "dumAcc = sum(dumAcc)/len(dumAcc)\n",
    "bayacc = sum(bayacc)/len(bayacc)\n",
    "\n",
    "print(\"10-Fold Cross Validation\")\n",
    "print(\"KNN clasifier: accuracy = \",knaccc,\", error rate =\",1-knaccc)\n",
    "print(\"Dummy Classifier: accuracy = \",dumAcc,\", error rate =\",1-dumAcc)\n",
    "print(\"Bays Classifier: accuracy = \",bayacc,\", error rate =\",1-bayacc)\n",
    "print(\"Decision Tree: accuracy = \",treAcc,\", error rate =\",1-treAcc)\n",
    "\n",
    "\n",
    "\n"
   ]
  }
 ],
 "metadata": {
  "kernelspec": {
   "display_name": "Python 3",
   "language": "python",
   "name": "python3"
  },
  "language_info": {
   "codemirror_mode": {
    "name": "ipython",
    "version": 3
   },
   "file_extension": ".py",
   "mimetype": "text/x-python",
   "name": "python",
   "nbconvert_exporter": "python",
   "pygments_lexer": "ipython3",
   "version": "3.10.6"
  },
  "vscode": {
   "interpreter": {
    "hash": "916dbcbb3f70747c44a77c7bcd40155683ae19c65e1c03b4aa3499c5328201f1"
   }
  }
 },
 "nbformat": 4,
 "nbformat_minor": 4
}
